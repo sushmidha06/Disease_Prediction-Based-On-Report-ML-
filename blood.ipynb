{
 "cells": [
  {
   "cell_type": "code",
   "execution_count": 8,
   "metadata": {},
   "outputs": [
    {
     "name": "stdout",
     "output_type": "stream",
     "text": [
      "🔥 Random Forest Accuracy: 0.99\n",
      "✅ Model, scaler, and feature columns saved!\n",
      "✅ Prediction function saved as a pickle file!\n",
      "Prediction: Anemia\n"
     ]
    },
    {
     "name": "stderr",
     "output_type": "stream",
     "text": [
      "C:\\Users\\Sushmidha\\AppData\\Local\\Packages\\PythonSoftwareFoundation.Python.3.9_qbz5n2kfra8p0\\LocalCache\\local-packages\\Python39\\site-packages\\sklearn\\utils\\validation.py:2739: UserWarning: X does not have valid feature names, but StandardScaler was fitted with feature names\n",
      "  warnings.warn(\n"
     ]
    },
    {
     "data": {
      "text/plain": [
       "'Prediction: Anemia'"
      ]
     },
     "execution_count": 8,
     "metadata": {},
     "output_type": "execute_result"
    }
   ],
   "source": [
    "import pandas as pd\n",
    "import numpy as np\n",
    "import joblib\n",
    "import pytesseract\n",
    "from PIL import Image\n",
    "import re\n",
    "from sklearn.model_selection import train_test_split\n",
    "from sklearn.preprocessing import StandardScaler\n",
    "from sklearn.ensemble import RandomForestClassifier\n",
    "from sklearn.metrics import accuracy_score\n",
    "\n",
    "# Load dataset\n",
    "dataset_path = \"synthetic_blood_count.csv\"   # Update with your dataset filename\n",
    "df = pd.read_csv(dataset_path)\n",
    "\n",
    "def diagnose(row):\n",
    "    if row[\"HGB\"] < 11 or row[\"RBC\"] < 4.0 or row[\"PCV\"] < 35:\n",
    "        return \"Anemia\"\n",
    "    elif row[\"TLC\"] > 11:\n",
    "        return \"Infection\"\n",
    "    elif row[\"PLT /mm3\"] < 150:\n",
    "        return \"Low Platelets\"\n",
    "    else:\n",
    "        return \"Normal\"\n",
    "\n",
    "df[\"Diagnosis\"] = df.apply(diagnose, axis=1)\n",
    "\n",
    "\n",
    "X = df.drop(columns=[\"Diagnosis\"])\n",
    "y = df[\"Diagnosis\"]\n",
    "X_train, X_test, y_train, y_test = train_test_split(X, y, test_size=0.2, random_state=42, stratify=y)\n",
    "\n",
    "\n",
    "scaler = StandardScaler()\n",
    "X_train_scaled = scaler.fit_transform(X_train)\n",
    "X_test_scaled = scaler.transform(X_test)\n",
    "\n",
    "rf_model = RandomForestClassifier(n_estimators=100, random_state=42)\n",
    "rf_model.fit(X_train_scaled, y_train)\n",
    "\n",
    "rf_acc = accuracy_score(y_test, rf_model.predict(X_test_scaled))\n",
    "print(f\"🔥 Random Forest Accuracy: {rf_acc:.2f}\")\n",
    "\n",
    "\n",
    "joblib.dump(rf_model, \"blood_count_model.pkl\")\n",
    "joblib.dump(scaler, \"blood_count_scaler.pkl\")\n",
    "joblib.dump(X.columns.tolist(), \"blood_count_features.pkl\")\n",
    "print(\"✅ Model, scaler, and feature columns saved!\")\n",
    "\n",
    "\n",
    "def predict_from_report(image_path):\n",
    "    rf_model = joblib.load(\"blood_count_model.pkl\")\n",
    "    scaler = joblib.load(\"blood_count_scaler.pkl\")\n",
    "    feature_columns = joblib.load(\"blood_count_features.pkl\")\n",
    "\n",
    "    ocr_text = pytesseract.image_to_string(Image.open(image_path))\n",
    "\n",
    "    def extract_value(pattern, default=None, cast_type=float):\n",
    "        match = re.search(pattern, ocr_text)\n",
    "        return cast_type(match.group(1)) if match else default\n",
    "\n",
    "    extracted_data = {feature: extract_value(fr\"{feature}:\\\\s*([\\\\d.]+)\", default=0) for feature in feature_columns}\n",
    "    report_data = np.array([[extracted_data[feature] for feature in feature_columns]])\n",
    "    report_scaled = scaler.transform(report_data)\n",
    "    rf_pred = rf_model.predict(report_scaled)\n",
    "\n",
    "    result = f\"Prediction: {rf_pred[0]}\"\n",
    "    print(result)\n",
    "    return result\n",
    "\n",
    "\n",
    "joblib.dump(predict_from_report, \"blood_count_predictor.pkl\")\n",
    "print(\"✅ Prediction function saved as a pickle file!\")\n",
    "\n",
    "\n",
    "image_path = \"blood.jpg\"  \n",
    "predict_from_report(image_path)\n"
   ]
  },
  {
   "cell_type": "code",
   "execution_count": null,
   "metadata": {},
   "outputs": [],
   "source": []
  }
 ],
 "metadata": {
  "kernelspec": {
   "display_name": "Python 3",
   "language": "python",
   "name": "python3"
  },
  "language_info": {
   "codemirror_mode": {
    "name": "ipython",
    "version": 3
   },
   "file_extension": ".py",
   "mimetype": "text/x-python",
   "name": "python",
   "nbconvert_exporter": "python",
   "pygments_lexer": "ipython3",
   "version": "3.9.13"
  }
 },
 "nbformat": 4,
 "nbformat_minor": 2
}
