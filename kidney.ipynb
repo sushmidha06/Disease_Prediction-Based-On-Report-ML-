{
 "cells": [
  {
   "cell_type": "code",
   "execution_count": 3,
   "metadata": {},
   "outputs": [
    {
     "name": "stdout",
     "output_type": "stream",
     "text": [
      "\n",
      "    Conclusion: ✅ Low Risk\n",
      "    - 📊 Estimated Risk: 4.0%\n",
      "    - Prediction: ✅ No CKD Detected\n",
      "    \n",
      "    Recommendation: 💧 Stay hydrated, maintain a balanced diet, and consult a nephrologist if symptoms persist.\n",
      "    \n"
     ]
    },
    {
     "name": "stderr",
     "output_type": "stream",
     "text": [
      "C:\\Users\\Sushmidha\\AppData\\Local\\Packages\\PythonSoftwareFoundation.Python.3.9_qbz5n2kfra8p0\\LocalCache\\local-packages\\Python39\\site-packages\\sklearn\\utils\\validation.py:2739: UserWarning: X does not have valid feature names, but StandardScaler was fitted with feature names\n",
      "  warnings.warn(\n"
     ]
    }
   ],
   "source": [
    "import pandas as pd\n",
    "import numpy as np\n",
    "import joblib\n",
    "import pytesseract\n",
    "from PIL import Image\n",
    "import re\n",
    "from sklearn.model_selection import train_test_split\n",
    "from sklearn.preprocessing import StandardScaler\n",
    "from sklearn.ensemble import RandomForestClassifier\n",
    "from sklearn.metrics import accuracy_score\n",
    "import pickle\n",
    "\n",
    "file_path = \"kidney.csv\"\n",
    "df = pd.read_csv(file_path)\n",
    "\n",
    "df[\"Stage\"] = df[\"Stage\"].apply(lambda x: 1 if x in [\"Stage 3\", \"Stage 4\", \"Stage 5\"] else 0)\n",
    "df[\"Gender\"] = df[\"Gender\"].map({\"Male\": 1, \"Female\": 0})\n",
    "\n",
    "\n",
    "X = df.drop(columns=[\"Stage\"])\n",
    "y = df[\"Stage\"]\n",
    "\n",
    "\n",
    "X_train, X_test, y_train, y_test = train_test_split(X, y, test_size=0.2, random_state=42, stratify=y)\n",
    "\n",
    "\n",
    "scaler = StandardScaler()\n",
    "X_train_scaled = scaler.fit_transform(X_train)\n",
    "X_test_scaled = scaler.transform(X_test)\n",
    "\n",
    "\n",
    "rf_model = RandomForestClassifier(n_estimators=100, random_state=42)\n",
    "rf_model.fit(X_train_scaled, y_train)\n",
    "\n",
    "\n",
    "\n",
    "\n",
    "joblib.dump(rf_model, \"kidney_rf_model.pkl\")\n",
    "joblib.dump(scaler, \"kidney_scaler.pkl\")\n",
    "\n",
    "\n",
    "rf_model = joblib.load(\"kidney_rf_model.pkl\")\n",
    "scaler = joblib.load(\"kidney_scaler.pkl\")\n",
    "\n",
    "def extract_data_from_report(image_path):\n",
    "    ocr_text = pytesseract.image_to_string(Image.open(image_path))\n",
    "    \n",
    "    def extract_value(pattern, default=None, cast_type=str):\n",
    "        match = re.search(pattern, ocr_text)\n",
    "        return cast_type(match.group(1)) if match else default\n",
    "\n",
    "    extracted_data = {\n",
    "        \"Age\": extract_value(r\"Age:\\s*(\\d+)\", default=50, cast_type=int),\n",
    "        \"Gender\": extract_value(r\"Gender:\\s*(Male|Female)\", default=\"Male\"),\n",
    "        \"Blood Pressure\": extract_value(r\"Blood Pressure:\\s*(\\d+)\", default=120, cast_type=int),\n",
    "        \"Glucose\": extract_value(r\"Glucose:\\s*([\\d.]+)\", default=100.0, cast_type=float),\n",
    "        \"Creatinine\": extract_value(r\"Creatinine:\\s*([\\d.]+)\", default=1.0, cast_type=float),\n",
    "        \"Urea\": extract_value(r\"Urea:\\s*([\\d.]+)\", default=30.0, cast_type=float),\n",
    "        \"Albumin\": extract_value(r\"Albumin:\\s*([\\d.]+)\", default=3.5, cast_type=float),\n",
    "        \"Hemoglobin\": extract_value(r\"Hemoglobin:\\s*([\\d.]+)\", default=13.5, cast_type=float),\n",
    "        \"Potassium\": extract_value(r\"Potassium:\\s*([\\d.]+)\", default=4.0, cast_type=float),\n",
    "        \"Sodium\": extract_value(r\"Sodium:\\s*([\\d.]+)\", default=140.0, cast_type=float),\n",
    "        \"Calcium\": extract_value(r\"Calcium:\\s*([\\d.]+)\", default=9.0, cast_type=float),\n",
    "        \"Phosphorus\": extract_value(r\"Phosphorus:\\s*([\\d.]+)\", default=4.0, cast_type=float)\n",
    "    }\n",
    "    \n",
    "    extracted_data[\"Gender\"] = 1 if extracted_data[\"Gender\"] == \"Male\" else 0\n",
    "\n",
    "    return np.array([[extracted_data[feature] for feature in X.columns]])\n",
    "\n",
    "def predict_from_report(image_path):\n",
    "    report_data = extract_data_from_report(image_path)\n",
    "    report_scaled = scaler.transform(report_data)\n",
    "    rf_pred = rf_model.predict(report_scaled)\n",
    "    rf_proba = rf_model.predict_proba(report_scaled)[0][1]\n",
    "\n",
    "    risk_percentage = round(rf_proba * 100, 2)\n",
    "\n",
    "    if risk_percentage >= 75:\n",
    "        risk_level = \"\\U0001F525 High Risk of Kidney Disease\"\n",
    "    elif 50 <= risk_percentage < 75:\n",
    "        risk_level = \"⚠️ Moderate Risk\"\n",
    "    else:\n",
    "        risk_level = \"✅ Low Risk\"\n",
    "\n",
    "    print(f\"\"\"\n",
    "    Conclusion: {risk_level}\n",
    "    - 📊 Estimated Risk: {risk_percentage}%\n",
    "    - Prediction: {\"🩺 Chronic Kidney Disease (CKD)\" if rf_pred[0] == 1 else \"✅ No CKD Detected\"}\n",
    "    \n",
    "    Recommendation: 💧 Stay hydrated, maintain a balanced diet, and consult a nephrologist if symptoms persist.\n",
    "    \"\"\")\n",
    "\n",
    "\n",
    "image_path = \"kidney3.jpg\"  \n",
    "predict_from_report(image_path)\n"
   ]
  },
  {
   "cell_type": "code",
   "execution_count": 4,
   "metadata": {},
   "outputs": [
    {
     "name": "stdout",
     "output_type": "stream",
     "text": [
      "Model and scaler saved successfully using pickle!\n"
     ]
    }
   ],
   "source": [
    "import pickle\n",
    "\n",
    "\n",
    "with open(\"kidney_rf_model.pkl\", \"wb\") as f:\n",
    "    pickle.dump(rf_model, f)\n",
    "\n",
    "\n",
    "with open(\"kidney_scaler.pkl\", \"wb\") as f:\n",
    "    pickle.dump(scaler, f)\n",
    "\n",
    "print(\"Model and scaler saved successfully using pickle!\")\n"
   ]
  },
  {
   "cell_type": "code",
   "execution_count": null,
   "metadata": {},
   "outputs": [],
   "source": []
  }
 ],
 "metadata": {
  "kernelspec": {
   "display_name": "Python 3",
   "language": "python",
   "name": "python3"
  },
  "language_info": {
   "codemirror_mode": {
    "name": "ipython",
    "version": 3
   },
   "file_extension": ".py",
   "mimetype": "text/x-python",
   "name": "python",
   "nbconvert_exporter": "python",
   "pygments_lexer": "ipython3",
   "version": "3.9.13"
  }
 },
 "nbformat": 4,
 "nbformat_minor": 2
}
