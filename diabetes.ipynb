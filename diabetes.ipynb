{
 "cells": [
  {
   "cell_type": "code",
   "execution_count": 15,
   "metadata": {},
   "outputs": [
    {
     "name": "stdout",
     "output_type": "stream",
     "text": [
      "🔥 Random Forest Accuracy: 0.76\n",
      "✅ Model, scaler, and feature columns saved!\n",
      "✅ Prediction function saved!\n",
      "\n",
      "    Conclusion: ✅ Low Risk\n",
      "    - 📊 Estimated Risk: 9.0%\n",
      "    - Prediction: ✅ Non-Diabetic\n",
      "    \n",
      "    Recommendation: 🥗 Maintain a healthy lifestyle. 💊 Consult a doctor if symptoms persist.\n",
      "    \n"
     ]
    },
    {
     "name": "stderr",
     "output_type": "stream",
     "text": [
      "C:\\Users\\Sushmidha\\AppData\\Local\\Packages\\PythonSoftwareFoundation.Python.3.9_qbz5n2kfra8p0\\LocalCache\\local-packages\\Python39\\site-packages\\sklearn\\utils\\validation.py:2739: UserWarning: X does not have valid feature names, but StandardScaler was fitted with feature names\n",
      "  warnings.warn(\n"
     ]
    },
    {
     "data": {
      "text/plain": [
       "'\\n    Conclusion: ✅ Low Risk\\n    - 📊 Estimated Risk: 9.0%\\n    - Prediction: ✅ Non-Diabetic\\n    \\n    Recommendation: 🥗 Maintain a healthy lifestyle. 💊 Consult a doctor if symptoms persist.\\n    '"
      ]
     },
     "execution_count": 15,
     "metadata": {},
     "output_type": "execute_result"
    }
   ],
   "source": [
    "import pandas as pd\n",
    "import numpy as np\n",
    "import joblib\n",
    "import pytesseract\n",
    "from PIL import Image\n",
    "import re\n",
    "from sklearn.model_selection import train_test_split\n",
    "from sklearn.preprocessing import StandardScaler\n",
    "from sklearn.ensemble import RandomForestClassifier\n",
    "from sklearn.metrics import accuracy_score\n",
    "\n",
    "\n",
    "file_path = \"diabetes.csv\"\n",
    "df = pd.read_csv(file_path)\n",
    "df.dropna(inplace=True)  \n",
    "\n",
    "\n",
    "X = df.drop(columns=[\"Outcome\"])\n",
    "y = df[\"Outcome\"]\n",
    "\n",
    "\n",
    "X_train, X_test, y_train, y_test = train_test_split(X, y, test_size=0.2, random_state=42, stratify=y)\n",
    "\n",
    "\n",
    "scaler = StandardScaler()\n",
    "X_train_scaled = scaler.fit_transform(X_train)\n",
    "X_test_scaled = scaler.transform(X_test)\n",
    "\n",
    "\n",
    "rf_model = RandomForestClassifier(n_estimators=100, random_state=42)\n",
    "rf_model.fit(X_train_scaled, y_train)\n",
    "\n",
    "\n",
    "rf_acc = accuracy_score(y_test, rf_model.predict(X_test_scaled))\n",
    "print(f\"🔥 Random Forest Accuracy: {rf_acc:.2f}\")\n",
    "\n",
    "\n",
    "joblib.dump(rf_model, \"random_forest_model.pkl\")\n",
    "joblib.dump(scaler, \"diabetes_scaler.pkl\")\n",
    "joblib.dump(X.columns, \"feature_columns.pkl\")  # Save feature names\n",
    "\n",
    "print(\"✅ Model, scaler, and feature columns saved!\")\n",
    "\n",
    "\n",
    "def predict_from_report(image_path):\n",
    "    \n",
    "    rf_model = joblib.load(\"random_forest_model.pkl\")\n",
    "    scaler = joblib.load(\"diabetes_scaler.pkl\")\n",
    "    feature_columns = joblib.load(\"feature_columns.pkl\")\n",
    "\n",
    "    ocr_text = pytesseract.image_to_string(Image.open(image_path))\n",
    "\n",
    "    def extract_value(pattern, default=None, cast_type=str):\n",
    "        match = re.search(pattern, ocr_text)\n",
    "        return cast_type(match.group(1)) if match else default\n",
    "\n",
    "    extracted_data = {\n",
    "        \"Pregnancies\": extract_value(r\"Pregnancies:\\s*(\\d+)\", default=0, cast_type=int),\n",
    "        \"Glucose\": extract_value(r\"Glucose:\\s*(\\d+)\", default=120, cast_type=int),\n",
    "        \"BloodPressure\": extract_value(r\"Blood Pressure:\\s*(\\d+)\", default=70, cast_type=int),\n",
    "        \"SkinThickness\": extract_value(r\"Skin Thickness:\\s*(\\d+)\", default=20, cast_type=int),\n",
    "        \"Insulin\": extract_value(r\"Insulin:\\s*(\\d+)\", default=80, cast_type=int),\n",
    "        \"BMI\": extract_value(r\"BMI:\\s*([\\d.]+)\", default=25.0, cast_type=float),\n",
    "        \"DiabetesPedigreeFunction\": extract_value(r\"Diabetes Pedigree Function:\\s*([\\d.]+)\", default=0.5, cast_type=float),\n",
    "        \"Age\": extract_value(r\"Age:\\s*(\\d+)\", default=30, cast_type=int)\n",
    "    }\n",
    "\n",
    "    \n",
    "    report_data = np.array([[extracted_data[feature] for feature in feature_columns]])\n",
    "\n",
    "   \n",
    "    report_scaled = scaler.transform(report_data)\n",
    "    rf_pred = rf_model.predict(report_scaled)\n",
    "    rf_proba = rf_model.predict_proba(report_scaled)[0][1]  \n",
    "\n",
    "    risk_percentage = round(rf_proba * 100, 2)\n",
    "\n",
    "    if risk_percentage >= 75:\n",
    "        risk_level = \"🔥 High Risk\"\n",
    "    elif 50 <= risk_percentage < 75:\n",
    "        risk_level = \"⚠️ Moderate Risk\"\n",
    "    else:\n",
    "        risk_level = \"✅ Low Risk\"\n",
    "\n",
    "    \n",
    "    result = f\"\"\"\n",
    "    Conclusion: {risk_level}\n",
    "    - 📊 Estimated Risk: {risk_percentage}%\n",
    "    - Prediction: {\"🩸 Diabetic\" if rf_pred[0] == 1 else \"✅ Non-Diabetic\"}\n",
    "    \n",
    "    Recommendation: 🥗 Maintain a healthy lifestyle. 💊 Consult a doctor if symptoms persist.\n",
    "    \"\"\"\n",
    "    print(result)\n",
    "    return result\n",
    "\n",
    "\n",
    "joblib.dump(predict_from_report, \"diabetes_predictor.pkl\")\n",
    "\n",
    "print(\"✅ Prediction function saved!\")\n",
    "\n",
    "\n",
    "loaded_predictor = joblib.load(\"diabetes_predictor.pkl\")\n",
    "image_path = \"diabetes3.jpg\"  \n",
    "loaded_predictor(image_path)\n"
   ]
  },
  {
   "cell_type": "code",
   "execution_count": 16,
   "metadata": {},
   "outputs": [
    {
     "name": "stdout",
     "output_type": "stream",
     "text": [
      "Model saved successfully!\n"
     ]
    }
   ],
   "source": [
    "from sklearn.ensemble import RandomForestClassifier\n",
    "import pickle\n",
    "\n",
    "\n",
    "X_train, y_train = [[1, 2], [3, 4], [5, 6]], [0, 1, 0]  \n",
    "model = RandomForestClassifier()\n",
    "model.fit(X_train, y_train)  \n",
    "\n",
    "\n",
    "with open('diabetes_predictor.pkl', 'wb') as f:\n",
    "    pickle.dump(model, f)\n",
    "\n",
    "print(\"Model saved successfully!\")\n"
   ]
  },
  {
   "cell_type": "code",
   "execution_count": null,
   "metadata": {},
   "outputs": [],
   "source": []
  }
 ],
 "metadata": {
  "kernelspec": {
   "display_name": "Python 3",
   "language": "python",
   "name": "python3"
  },
  "language_info": {
   "codemirror_mode": {
    "name": "ipython",
    "version": 3
   },
   "file_extension": ".py",
   "mimetype": "text/x-python",
   "name": "python",
   "nbconvert_exporter": "python",
   "pygments_lexer": "ipython3",
   "version": "3.9.13"
  }
 },
 "nbformat": 4,
 "nbformat_minor": 2
}
